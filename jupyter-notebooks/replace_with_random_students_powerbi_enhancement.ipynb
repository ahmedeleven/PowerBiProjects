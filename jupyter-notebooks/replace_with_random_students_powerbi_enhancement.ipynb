{
 "cells": [
  {
   "cell_type": "markdown",
   "id": "d9781039",
   "metadata": {},
   "source": [
    "# Replace real data to random data to use it in portfolio"
   ]
  },
  {
   "cell_type": "markdown",
   "id": "80ec9d68",
   "metadata": {},
   "source": [
    "#### Import libraries needed"
   ]
  },
  {
   "cell_type": "code",
   "execution_count": 1,
   "id": "7341dbeb",
   "metadata": {},
   "outputs": [],
   "source": [
    "import numpy as np\n",
    "import pandas as pd\n",
    "import random"
   ]
  },
  {
   "cell_type": "markdown",
   "id": "9791dc10",
   "metadata": {},
   "source": [
    "#### Create a function that replaces a column with real data with a random data from a list\n",
    "#### If the column has related columns in other tables, they can also be replaced by adding a list of the columns in the third parameter"
   ]
  },
  {
   "cell_type": "code",
   "execution_count": 2,
   "id": "a2554abe",
   "metadata": {},
   "outputs": [],
   "source": [
    "def replace_column_values(column_name,replaced_list,related_columns=None):\n",
    "    #Get unique values from the main column in which the values will be replaced\n",
    "    get_unique_values = column_name.dropna().unique().tolist()\n",
    "    #Get the size of the list to find matching list\n",
    "    size_of_column_list = len(get_unique_values)\n",
    "    #get the replaced list to be the same size than the unique values in the column\n",
    "    replaced_list = replaced_list[:size_of_column_list]\n",
    "    #replace the column with the list\n",
    "    column_name.replace(get_unique_values,replaced_list,inplace=True)\n",
    " \n",
    "    #If there are related columns, replace the matching values with the same list provided earlier\n",
    "    if related_columns:\n",
    "        for column in related_columns:\n",
    "            column.replace(get_unique_values,replaced_list,inplace=True)"
   ]
  },
  {
   "cell_type": "markdown",
   "id": "1587b348",
   "metadata": {},
   "source": [
    "#### Read the main table to a dataframe "
   ]
  },
  {
   "cell_type": "code",
   "execution_count": 3,
   "id": "883ac2b6",
   "metadata": {},
   "outputs": [],
   "source": [
    "df_final = pd.read_excel(\"resources/StudentsPerformance/Final5AllSubjects.xlsx\")"
   ]
  },
  {
   "cell_type": "markdown",
   "id": "316799bf",
   "metadata": {},
   "source": [
    "### First we need to replace the names in the dataframes to random names\n",
    "#### Read the related table to a dataframe"
   ]
  },
  {
   "cell_type": "code",
   "execution_count": 4,
   "id": "aeab794a",
   "metadata": {},
   "outputs": [],
   "source": [
    "df_midterm = pd.read_excel(\"resources/StudentsPerformance/Midterm5AllSubjects.xlsx\")"
   ]
  },
  {
   "cell_type": "code",
   "execution_count": 5,
   "id": "02cfaddb",
   "metadata": {},
   "outputs": [
    {
     "data": {
      "text/plain": [
       "Index(['StudentID', 'Name', 'Subject', 'Class', 'Activity', 'Short Evaluation',\n",
       "       'Assignments', 'Behaviour', 'Art Activities', 'Participation',\n",
       "       'Project', 'Practical Exam', 'Achivements', 'Period', 'Main Evaluation',\n",
       "       '2nd Attempt', 'Grade', 'Status'],\n",
       "      dtype='object')"
      ]
     },
     "execution_count": 5,
     "metadata": {},
     "output_type": "execute_result"
    }
   ],
   "source": [
    "df_final.columns"
   ]
  },
  {
   "cell_type": "code",
   "execution_count": 6,
   "id": "ef20eca2",
   "metadata": {},
   "outputs": [
    {
     "data": {
      "text/plain": [
       "Index(['StudentID', 'Name', 'Subject', 'Class', 'Period', 'Main Evaluation',\n",
       "       'Grade', 'Status'],\n",
       "      dtype='object')"
      ]
     },
     "execution_count": 6,
     "metadata": {},
     "output_type": "execute_result"
    }
   ],
   "source": [
    "df_midterm.columns"
   ]
  },
  {
   "cell_type": "markdown",
   "id": "cd04a999",
   "metadata": {},
   "source": [
    "#### Read the dataset which contains the random data"
   ]
  },
  {
   "cell_type": "code",
   "execution_count": 7,
   "id": "62b05d8f",
   "metadata": {},
   "outputs": [
    {
     "data": {
      "text/html": [
       "<div>\n",
       "<style scoped>\n",
       "    .dataframe tbody tr th:only-of-type {\n",
       "        vertical-align: middle;\n",
       "    }\n",
       "\n",
       "    .dataframe tbody tr th {\n",
       "        vertical-align: top;\n",
       "    }\n",
       "\n",
       "    .dataframe thead th {\n",
       "        text-align: right;\n",
       "    }\n",
       "</style>\n",
       "<table border=\"1\" class=\"dataframe\">\n",
       "  <thead>\n",
       "    <tr style=\"text-align: right;\">\n",
       "      <th></th>\n",
       "      <th>First Name</th>\n",
       "      <th>Last Name</th>\n",
       "    </tr>\n",
       "  </thead>\n",
       "  <tbody>\n",
       "    <tr>\n",
       "      <th>0</th>\n",
       "      <td>Mechelle</td>\n",
       "      <td>Stoneman</td>\n",
       "    </tr>\n",
       "    <tr>\n",
       "      <th>1</th>\n",
       "      <td>Tyesha</td>\n",
       "      <td>Freitag</td>\n",
       "    </tr>\n",
       "    <tr>\n",
       "      <th>2</th>\n",
       "      <td>Dean</td>\n",
       "      <td>Stoecker</td>\n",
       "    </tr>\n",
       "    <tr>\n",
       "      <th>3</th>\n",
       "      <td>Annelle</td>\n",
       "      <td>Pickney</td>\n",
       "    </tr>\n",
       "    <tr>\n",
       "      <th>4</th>\n",
       "      <td>Margareta</td>\n",
       "      <td>Tacy</td>\n",
       "    </tr>\n",
       "    <tr>\n",
       "      <th>...</th>\n",
       "      <td>...</td>\n",
       "      <td>...</td>\n",
       "    </tr>\n",
       "    <tr>\n",
       "      <th>1995</th>\n",
       "      <td>Myrl</td>\n",
       "      <td>Eriksen</td>\n",
       "    </tr>\n",
       "    <tr>\n",
       "      <th>1996</th>\n",
       "      <td>Oleta</td>\n",
       "      <td>Moret</td>\n",
       "    </tr>\n",
       "    <tr>\n",
       "      <th>1997</th>\n",
       "      <td>Carita</td>\n",
       "      <td>Fifield</td>\n",
       "    </tr>\n",
       "    <tr>\n",
       "      <th>1998</th>\n",
       "      <td>Glory</td>\n",
       "      <td>Mckeown</td>\n",
       "    </tr>\n",
       "    <tr>\n",
       "      <th>1999</th>\n",
       "      <td>Hallie</td>\n",
       "      <td>Joshi</td>\n",
       "    </tr>\n",
       "  </tbody>\n",
       "</table>\n",
       "<p>2000 rows × 2 columns</p>\n",
       "</div>"
      ],
      "text/plain": [
       "     First Name Last Name\n",
       "0      Mechelle  Stoneman\n",
       "1        Tyesha   Freitag\n",
       "2          Dean  Stoecker\n",
       "3       Annelle   Pickney\n",
       "4     Margareta      Tacy\n",
       "...         ...       ...\n",
       "1995       Myrl   Eriksen\n",
       "1996      Oleta     Moret\n",
       "1997     Carita   Fifield\n",
       "1998      Glory   Mckeown\n",
       "1999     Hallie     Joshi\n",
       "\n",
       "[2000 rows x 2 columns]"
      ]
     },
     "execution_count": 7,
     "metadata": {},
     "output_type": "execute_result"
    }
   ],
   "source": [
    "names = pd.read_csv(\"resources/StudentsPerformance/Customer_Names.csv\")\n",
    "names"
   ]
  },
  {
   "cell_type": "markdown",
   "id": "73048336",
   "metadata": {},
   "source": [
    "#### Prepare the names list that will be replaced with and display a sample"
   ]
  },
  {
   "cell_type": "code",
   "execution_count": 8,
   "id": "3d5679f3",
   "metadata": {},
   "outputs": [
    {
     "data": {
      "text/html": [
       "<div>\n",
       "<style scoped>\n",
       "    .dataframe tbody tr th:only-of-type {\n",
       "        vertical-align: middle;\n",
       "    }\n",
       "\n",
       "    .dataframe tbody tr th {\n",
       "        vertical-align: top;\n",
       "    }\n",
       "\n",
       "    .dataframe thead th {\n",
       "        text-align: right;\n",
       "    }\n",
       "</style>\n",
       "<table border=\"1\" class=\"dataframe\">\n",
       "  <thead>\n",
       "    <tr style=\"text-align: right;\">\n",
       "      <th></th>\n",
       "      <th>First Name</th>\n",
       "      <th>Last Name</th>\n",
       "      <th>Full Name</th>\n",
       "    </tr>\n",
       "  </thead>\n",
       "  <tbody>\n",
       "    <tr>\n",
       "      <th>0</th>\n",
       "      <td>Mechelle</td>\n",
       "      <td>Stoneman</td>\n",
       "      <td>Mechelle Stoneman</td>\n",
       "    </tr>\n",
       "    <tr>\n",
       "      <th>1</th>\n",
       "      <td>Tyesha</td>\n",
       "      <td>Freitag</td>\n",
       "      <td>Tyesha Freitag</td>\n",
       "    </tr>\n",
       "    <tr>\n",
       "      <th>2</th>\n",
       "      <td>Dean</td>\n",
       "      <td>Stoecker</td>\n",
       "      <td>Dean Stoecker</td>\n",
       "    </tr>\n",
       "    <tr>\n",
       "      <th>3</th>\n",
       "      <td>Annelle</td>\n",
       "      <td>Pickney</td>\n",
       "      <td>Annelle Pickney</td>\n",
       "    </tr>\n",
       "    <tr>\n",
       "      <th>4</th>\n",
       "      <td>Margareta</td>\n",
       "      <td>Tacy</td>\n",
       "      <td>Margareta Tacy</td>\n",
       "    </tr>\n",
       "    <tr>\n",
       "      <th>...</th>\n",
       "      <td>...</td>\n",
       "      <td>...</td>\n",
       "      <td>...</td>\n",
       "    </tr>\n",
       "    <tr>\n",
       "      <th>1995</th>\n",
       "      <td>Myrl</td>\n",
       "      <td>Eriksen</td>\n",
       "      <td>Myrl Eriksen</td>\n",
       "    </tr>\n",
       "    <tr>\n",
       "      <th>1996</th>\n",
       "      <td>Oleta</td>\n",
       "      <td>Moret</td>\n",
       "      <td>Oleta Moret</td>\n",
       "    </tr>\n",
       "    <tr>\n",
       "      <th>1997</th>\n",
       "      <td>Carita</td>\n",
       "      <td>Fifield</td>\n",
       "      <td>Carita Fifield</td>\n",
       "    </tr>\n",
       "    <tr>\n",
       "      <th>1998</th>\n",
       "      <td>Glory</td>\n",
       "      <td>Mckeown</td>\n",
       "      <td>Glory Mckeown</td>\n",
       "    </tr>\n",
       "    <tr>\n",
       "      <th>1999</th>\n",
       "      <td>Hallie</td>\n",
       "      <td>Joshi</td>\n",
       "      <td>Hallie Joshi</td>\n",
       "    </tr>\n",
       "  </tbody>\n",
       "</table>\n",
       "<p>2000 rows × 3 columns</p>\n",
       "</div>"
      ],
      "text/plain": [
       "     First Name Last Name          Full Name\n",
       "0      Mechelle  Stoneman  Mechelle Stoneman\n",
       "1        Tyesha   Freitag     Tyesha Freitag\n",
       "2          Dean  Stoecker      Dean Stoecker\n",
       "3       Annelle   Pickney    Annelle Pickney\n",
       "4     Margareta      Tacy     Margareta Tacy\n",
       "...         ...       ...                ...\n",
       "1995       Myrl   Eriksen       Myrl Eriksen\n",
       "1996      Oleta     Moret        Oleta Moret\n",
       "1997     Carita   Fifield     Carita Fifield\n",
       "1998      Glory   Mckeown      Glory Mckeown\n",
       "1999     Hallie     Joshi       Hallie Joshi\n",
       "\n",
       "[2000 rows x 3 columns]"
      ]
     },
     "execution_count": 8,
     "metadata": {},
     "output_type": "execute_result"
    }
   ],
   "source": [
    "names[\"Full Name\"] = names[\"First Name\"]+\" \"+names[\"Last Name\"]\n",
    "names"
   ]
  },
  {
   "cell_type": "code",
   "execution_count": 9,
   "id": "2f5c1d90",
   "metadata": {},
   "outputs": [
    {
     "data": {
      "text/plain": [
       "['Mechelle Stoneman',\n",
       " 'Tyesha Freitag',\n",
       " 'Dean Stoecker',\n",
       " 'Annelle Pickney',\n",
       " 'Margareta Tacy',\n",
       " 'Meghann Placencia',\n",
       " 'Kendrick Cieslak',\n",
       " 'Polly Isenberg',\n",
       " 'Evelyne Racicot',\n",
       " 'Augustus Delaune',\n",
       " 'Shawanda Client',\n",
       " 'Loura Coffield',\n",
       " 'Lorriane Machin',\n",
       " 'Lacey Osier',\n",
       " 'Nicki Malchow',\n",
       " 'Sidney Bodiford',\n",
       " 'Barbie Cun',\n",
       " 'Elden Hanshaw',\n",
       " 'Blossom Loggins',\n",
       " 'Joseph Dennie']"
      ]
     },
     "execution_count": 9,
     "metadata": {},
     "output_type": "execute_result"
    }
   ],
   "source": [
    "fullnames = names[\"Full Name\"].values.tolist()\n",
    "fullnames[0:20]"
   ]
  },
  {
   "cell_type": "markdown",
   "id": "1d5c7066",
   "metadata": {},
   "source": [
    "#### Use the function created above to replace the name column in the dataframe and the related name column in the second dataframe"
   ]
  },
  {
   "cell_type": "code",
   "execution_count": 10,
   "id": "4a4e697f",
   "metadata": {},
   "outputs": [],
   "source": [
    "replace_column_values(df_final[\"Name\"],fullnames,[df_midterm[\"Name\"]])"
   ]
  },
  {
   "cell_type": "markdown",
   "id": "22a79186",
   "metadata": {},
   "source": [
    "### Secondly we need to replace student IDs with random IDs\n",
    "#### Get the number of students who we have"
   ]
  },
  {
   "cell_type": "code",
   "execution_count": 11,
   "id": "56bfc846",
   "metadata": {},
   "outputs": [
    {
     "data": {
      "text/plain": [
       "380"
      ]
     },
     "execution_count": 11,
     "metadata": {},
     "output_type": "execute_result"
    }
   ],
   "source": [
    "student_list = df_final[\"StudentID\"].unique().tolist()\n",
    "len(student_list)"
   ]
  },
  {
   "cell_type": "markdown",
   "id": "2128b8be",
   "metadata": {},
   "source": [
    "#### Get random numbers with the same size as the list we have and display a sample"
   ]
  },
  {
   "cell_type": "code",
   "execution_count": 12,
   "id": "c321e95c",
   "metadata": {},
   "outputs": [
    {
     "data": {
      "text/plain": [
       "[96431926227,\n",
       " 96465621753,\n",
       " 22405104211,\n",
       " 25047364324,\n",
       " 86522812009,\n",
       " 53363143449,\n",
       " 33561484474,\n",
       " 99934914433,\n",
       " 84982113436,\n",
       " 90631659657,\n",
       " 32695821445,\n",
       " 43374101927,\n",
       " 56568048810,\n",
       " 78562582770,\n",
       " 61767818155,\n",
       " 99738665027,\n",
       " 54834450034,\n",
       " 29643156420,\n",
       " 80804630069,\n",
       " 11980202330]"
      ]
     },
     "execution_count": 12,
     "metadata": {},
     "output_type": "execute_result"
    }
   ],
   "source": [
    "rand_numbers = []\n",
    "while len(rand_numbers) < len(student_list):\n",
    "    new_rand_number = random.randint(11111111111, 99999999999)\n",
    "    if new_rand_number not in rand_numbers:\n",
    "        rand_numbers.append(new_rand_number)\n",
    "        \n",
    "rand_numbers[0:20]"
   ]
  },
  {
   "cell_type": "markdown",
   "id": "964dcc20",
   "metadata": {},
   "source": [
    "#### Use the function created above to replace the StudentID column in the dataframe and the related name column in the second dataframe"
   ]
  },
  {
   "cell_type": "code",
   "execution_count": 13,
   "id": "f913d036",
   "metadata": {},
   "outputs": [],
   "source": [
    "replace_column_values(df_final[\"StudentID\"],rand_numbers,[df_midterm[\"StudentID\"]])"
   ]
  },
  {
   "cell_type": "markdown",
   "id": "e3988dd1",
   "metadata": {},
   "source": [
    "#### Display a sample of both tables after data replacement"
   ]
  },
  {
   "cell_type": "code",
   "execution_count": 14,
   "id": "0245a25c",
   "metadata": {},
   "outputs": [
    {
     "data": {
      "text/html": [
       "<div>\n",
       "<style scoped>\n",
       "    .dataframe tbody tr th:only-of-type {\n",
       "        vertical-align: middle;\n",
       "    }\n",
       "\n",
       "    .dataframe tbody tr th {\n",
       "        vertical-align: top;\n",
       "    }\n",
       "\n",
       "    .dataframe thead th {\n",
       "        text-align: right;\n",
       "    }\n",
       "</style>\n",
       "<table border=\"1\" class=\"dataframe\">\n",
       "  <thead>\n",
       "    <tr style=\"text-align: right;\">\n",
       "      <th></th>\n",
       "      <th>StudentID</th>\n",
       "      <th>Name</th>\n",
       "      <th>Subject</th>\n",
       "      <th>Class</th>\n",
       "      <th>Activity</th>\n",
       "      <th>Short Evaluation</th>\n",
       "      <th>Assignments</th>\n",
       "      <th>Behaviour</th>\n",
       "      <th>Art Activities</th>\n",
       "      <th>Participation</th>\n",
       "      <th>Project</th>\n",
       "      <th>Practical Exam</th>\n",
       "      <th>Achivements</th>\n",
       "      <th>Period</th>\n",
       "      <th>Main Evaluation</th>\n",
       "      <th>2nd Attempt</th>\n",
       "      <th>Grade</th>\n",
       "      <th>Status</th>\n",
       "    </tr>\n",
       "  </thead>\n",
       "  <tbody>\n",
       "    <tr>\n",
       "      <th>0</th>\n",
       "      <td>96431926227</td>\n",
       "      <td>Mechelle Stoneman</td>\n",
       "      <td>Mathematics</td>\n",
       "      <td>05/1</td>\n",
       "      <td>50.0</td>\n",
       "      <td>20.0</td>\n",
       "      <td>10.0</td>\n",
       "      <td>NaN</td>\n",
       "      <td>NaN</td>\n",
       "      <td>5.0</td>\n",
       "      <td>15.0</td>\n",
       "      <td>NaN</td>\n",
       "      <td>NaN</td>\n",
       "      <td>1st Term Final</td>\n",
       "      <td>46.0</td>\n",
       "      <td>NaN</td>\n",
       "      <td>38.0</td>\n",
       "      <td>Present</td>\n",
       "    </tr>\n",
       "    <tr>\n",
       "      <th>1</th>\n",
       "      <td>96465621753</td>\n",
       "      <td>Tyesha Freitag</td>\n",
       "      <td>Mathematics</td>\n",
       "      <td>05/1</td>\n",
       "      <td>50.0</td>\n",
       "      <td>20.0</td>\n",
       "      <td>10.0</td>\n",
       "      <td>NaN</td>\n",
       "      <td>NaN</td>\n",
       "      <td>5.0</td>\n",
       "      <td>15.0</td>\n",
       "      <td>NaN</td>\n",
       "      <td>NaN</td>\n",
       "      <td>1st Term Final</td>\n",
       "      <td>42.5</td>\n",
       "      <td>NaN</td>\n",
       "      <td>36.5</td>\n",
       "      <td>Present</td>\n",
       "    </tr>\n",
       "    <tr>\n",
       "      <th>2</th>\n",
       "      <td>22405104211</td>\n",
       "      <td>Dean Stoecker</td>\n",
       "      <td>Mathematics</td>\n",
       "      <td>05/1</td>\n",
       "      <td>50.0</td>\n",
       "      <td>20.0</td>\n",
       "      <td>10.0</td>\n",
       "      <td>NaN</td>\n",
       "      <td>NaN</td>\n",
       "      <td>5.0</td>\n",
       "      <td>15.0</td>\n",
       "      <td>NaN</td>\n",
       "      <td>NaN</td>\n",
       "      <td>1st Term Final</td>\n",
       "      <td>27.0</td>\n",
       "      <td>NaN</td>\n",
       "      <td>28.5</td>\n",
       "      <td>Present</td>\n",
       "    </tr>\n",
       "    <tr>\n",
       "      <th>3</th>\n",
       "      <td>25047364324</td>\n",
       "      <td>Annelle Pickney</td>\n",
       "      <td>Mathematics</td>\n",
       "      <td>05/1</td>\n",
       "      <td>50.0</td>\n",
       "      <td>20.0</td>\n",
       "      <td>10.0</td>\n",
       "      <td>NaN</td>\n",
       "      <td>NaN</td>\n",
       "      <td>5.0</td>\n",
       "      <td>15.0</td>\n",
       "      <td>NaN</td>\n",
       "      <td>NaN</td>\n",
       "      <td>1st Term Final</td>\n",
       "      <td>43.0</td>\n",
       "      <td>NaN</td>\n",
       "      <td>37.0</td>\n",
       "      <td>Present</td>\n",
       "    </tr>\n",
       "    <tr>\n",
       "      <th>4</th>\n",
       "      <td>86522812009</td>\n",
       "      <td>Margareta Tacy</td>\n",
       "      <td>Mathematics</td>\n",
       "      <td>05/1</td>\n",
       "      <td>50.0</td>\n",
       "      <td>20.0</td>\n",
       "      <td>10.0</td>\n",
       "      <td>NaN</td>\n",
       "      <td>NaN</td>\n",
       "      <td>5.0</td>\n",
       "      <td>15.0</td>\n",
       "      <td>NaN</td>\n",
       "      <td>NaN</td>\n",
       "      <td>1st Term Final</td>\n",
       "      <td>47.0</td>\n",
       "      <td>NaN</td>\n",
       "      <td>37.0</td>\n",
       "      <td>Present</td>\n",
       "    </tr>\n",
       "  </tbody>\n",
       "</table>\n",
       "</div>"
      ],
      "text/plain": [
       "     StudentID               Name      Subject Class  Activity  \\\n",
       "0  96431926227  Mechelle Stoneman  Mathematics  05/1      50.0   \n",
       "1  96465621753     Tyesha Freitag  Mathematics  05/1      50.0   \n",
       "2  22405104211      Dean Stoecker  Mathematics  05/1      50.0   \n",
       "3  25047364324    Annelle Pickney  Mathematics  05/1      50.0   \n",
       "4  86522812009     Margareta Tacy  Mathematics  05/1      50.0   \n",
       "\n",
       "   Short Evaluation  Assignments  Behaviour  Art Activities  Participation  \\\n",
       "0              20.0         10.0        NaN             NaN            5.0   \n",
       "1              20.0         10.0        NaN             NaN            5.0   \n",
       "2              20.0         10.0        NaN             NaN            5.0   \n",
       "3              20.0         10.0        NaN             NaN            5.0   \n",
       "4              20.0         10.0        NaN             NaN            5.0   \n",
       "\n",
       "   Project Practical Exam  Achivements          Period  Main Evaluation  \\\n",
       "0     15.0            NaN          NaN  1st Term Final             46.0   \n",
       "1     15.0            NaN          NaN  1st Term Final             42.5   \n",
       "2     15.0            NaN          NaN  1st Term Final             27.0   \n",
       "3     15.0            NaN          NaN  1st Term Final             43.0   \n",
       "4     15.0            NaN          NaN  1st Term Final             47.0   \n",
       "\n",
       "  2nd Attempt  Grade   Status  \n",
       "0         NaN   38.0  Present  \n",
       "1         NaN   36.5  Present  \n",
       "2         NaN   28.5  Present  \n",
       "3         NaN   37.0  Present  \n",
       "4         NaN   37.0  Present  "
      ]
     },
     "execution_count": 14,
     "metadata": {},
     "output_type": "execute_result"
    }
   ],
   "source": [
    "df_final.head()"
   ]
  },
  {
   "cell_type": "code",
   "execution_count": 15,
   "id": "e29139af",
   "metadata": {},
   "outputs": [
    {
     "data": {
      "text/html": [
       "<div>\n",
       "<style scoped>\n",
       "    .dataframe tbody tr th:only-of-type {\n",
       "        vertical-align: middle;\n",
       "    }\n",
       "\n",
       "    .dataframe tbody tr th {\n",
       "        vertical-align: top;\n",
       "    }\n",
       "\n",
       "    .dataframe thead th {\n",
       "        text-align: right;\n",
       "    }\n",
       "</style>\n",
       "<table border=\"1\" class=\"dataframe\">\n",
       "  <thead>\n",
       "    <tr style=\"text-align: right;\">\n",
       "      <th></th>\n",
       "      <th>StudentID</th>\n",
       "      <th>Name</th>\n",
       "      <th>Subject</th>\n",
       "      <th>Class</th>\n",
       "      <th>Period</th>\n",
       "      <th>Main Evaluation</th>\n",
       "      <th>Grade</th>\n",
       "      <th>Status</th>\n",
       "    </tr>\n",
       "  </thead>\n",
       "  <tbody>\n",
       "    <tr>\n",
       "      <th>0</th>\n",
       "      <td>96431926227</td>\n",
       "      <td>Mechelle Stoneman</td>\n",
       "      <td>Mathematics</td>\n",
       "      <td>05/1</td>\n",
       "      <td>1st Midterm</td>\n",
       "      <td>29.0</td>\n",
       "      <td>14.5</td>\n",
       "      <td>Present</td>\n",
       "    </tr>\n",
       "    <tr>\n",
       "      <th>1</th>\n",
       "      <td>96465621753</td>\n",
       "      <td>Tyesha Freitag</td>\n",
       "      <td>Mathematics</td>\n",
       "      <td>05/1</td>\n",
       "      <td>1st Midterm</td>\n",
       "      <td>28.5</td>\n",
       "      <td>14.5</td>\n",
       "      <td>Present</td>\n",
       "    </tr>\n",
       "    <tr>\n",
       "      <th>2</th>\n",
       "      <td>22405104211</td>\n",
       "      <td>Dean Stoecker</td>\n",
       "      <td>Mathematics</td>\n",
       "      <td>05/1</td>\n",
       "      <td>1st Midterm</td>\n",
       "      <td>24.5</td>\n",
       "      <td>12.5</td>\n",
       "      <td>Present</td>\n",
       "    </tr>\n",
       "    <tr>\n",
       "      <th>3</th>\n",
       "      <td>25047364324</td>\n",
       "      <td>Annelle Pickney</td>\n",
       "      <td>Mathematics</td>\n",
       "      <td>05/1</td>\n",
       "      <td>1st Midterm</td>\n",
       "      <td>29.0</td>\n",
       "      <td>14.5</td>\n",
       "      <td>Present</td>\n",
       "    </tr>\n",
       "    <tr>\n",
       "      <th>4</th>\n",
       "      <td>86522812009</td>\n",
       "      <td>Margareta Tacy</td>\n",
       "      <td>Mathematics</td>\n",
       "      <td>05/1</td>\n",
       "      <td>1st Midterm</td>\n",
       "      <td>26.0</td>\n",
       "      <td>13.0</td>\n",
       "      <td>Present</td>\n",
       "    </tr>\n",
       "  </tbody>\n",
       "</table>\n",
       "</div>"
      ],
      "text/plain": [
       "     StudentID               Name      Subject Class       Period  \\\n",
       "0  96431926227  Mechelle Stoneman  Mathematics  05/1  1st Midterm   \n",
       "1  96465621753     Tyesha Freitag  Mathematics  05/1  1st Midterm   \n",
       "2  22405104211      Dean Stoecker  Mathematics  05/1  1st Midterm   \n",
       "3  25047364324    Annelle Pickney  Mathematics  05/1  1st Midterm   \n",
       "4  86522812009     Margareta Tacy  Mathematics  05/1  1st Midterm   \n",
       "\n",
       "   Main Evaluation  Grade   Status  \n",
       "0             29.0   14.5  Present  \n",
       "1             28.5   14.5  Present  \n",
       "2             24.5   12.5  Present  \n",
       "3             29.0   14.5  Present  \n",
       "4             26.0   13.0  Present  "
      ]
     },
     "execution_count": 15,
     "metadata": {},
     "output_type": "execute_result"
    }
   ],
   "source": [
    "df_midterm.head()"
   ]
  },
  {
   "cell_type": "markdown",
   "id": "e061d96f",
   "metadata": {},
   "source": [
    "#### Export data to Excel to be used instead of previous data"
   ]
  },
  {
   "cell_type": "code",
   "execution_count": 16,
   "id": "4fc38457",
   "metadata": {},
   "outputs": [],
   "source": [
    "df_final.to_excel(\"final.xlsx\")"
   ]
  },
  {
   "cell_type": "code",
   "execution_count": 17,
   "id": "119110ae",
   "metadata": {},
   "outputs": [],
   "source": [
    "df_midterm.to_excel(\"midterm.xlsx\")"
   ]
  },
  {
   "cell_type": "code",
   "execution_count": null,
   "id": "f1eb6f04",
   "metadata": {},
   "outputs": [],
   "source": []
  }
 ],
 "metadata": {
  "kernelspec": {
   "display_name": "Python 3 (ipykernel)",
   "language": "python",
   "name": "python3"
  },
  "language_info": {
   "codemirror_mode": {
    "name": "ipython",
    "version": 3
   },
   "file_extension": ".py",
   "mimetype": "text/x-python",
   "name": "python",
   "nbconvert_exporter": "python",
   "pygments_lexer": "ipython3",
   "version": "3.10.6"
  }
 },
 "nbformat": 4,
 "nbformat_minor": 5
}
